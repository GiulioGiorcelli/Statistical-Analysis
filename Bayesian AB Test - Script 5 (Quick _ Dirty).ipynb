{
 "cells": [
  {
   "cell_type": "code",
   "execution_count": null,
   "metadata": {
    "collapsed": true
   },
   "outputs": [],
   "source": [
    "#!/usr/bin/python\n",
    "# -*- coding: utf-8 -*-\n",
    "\n",
    "import math\n",
    "\n",
    "def calc_ab(alpha_a, beta_a, alpha_b, beta_b):\n",
    "    '''\n",
    "    See http://www.evanmiller.org/bayesian-ab-testing.html\n",
    "    αA is one plus the number of successes for A\n",
    "    βA is one plus the number of failures for A\n",
    "    αB is one plus the number of successes for B\n",
    "    βB is one plus the number of failures for B\n",
    "    '''\n",
    "    total = 0.0\n",
    "    for i in range(alpha_b-1):\n",
    "        num = math.lgamma(alpha_a+i) + math.lgamma(beta_a+beta_b) + math.lgamma(1+i+beta_b) + math.lgamma(alpha_a+beta_a)\n",
    "        den = math.log(beta_b+i) + math.lgamma(alpha_a+i+beta_a+beta_b) + math.lgamma(1+i) + math.lgamma(beta_b) + math.lgamma(alpha_a) + math.lgamma(beta_a)\n",
    "\n",
    "        total += math.exp(num - den)\n",
    "    return total\n",
    "\n",
    "print calc_ab(1600+1,1500+1,3200+1,3300+1)"
   ]
  }
 ],
 "metadata": {
  "kernelspec": {
   "display_name": "Python 3",
   "language": "python",
   "name": "python3"
  },
  "language_info": {
   "codemirror_mode": {
    "name": "ipython",
    "version": 3
   },
   "file_extension": ".py",
   "mimetype": "text/x-python",
   "name": "python",
   "nbconvert_exporter": "python",
   "pygments_lexer": "ipython3",
   "version": "3.6.0"
  }
 },
 "nbformat": 4,
 "nbformat_minor": 2
}
