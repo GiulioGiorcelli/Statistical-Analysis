{
 "cells": [
  {
   "cell_type": "code",
   "execution_count": 1,
   "metadata": {
    "collapsed": true
   },
   "outputs": [],
   "source": [
    "from matplotlib import use\n",
    "\n",
    "from pylab import *\n",
    "from scipy.stats import beta, norm, uniform\n",
    "from random import random\n",
    "from numpy import *\n",
    "import numpy as np\n",
    "import os"
   ]
  },
  {
   "cell_type": "code",
   "execution_count": null,
   "metadata": {
    "collapsed": true
   },
   "outputs": [],
   "source": []
  },
  {
   "cell_type": "code",
   "execution_count": 2,
   "metadata": {
    "collapsed": true
   },
   "outputs": [],
   "source": [
    "# Input data\n",
    "prior_params = [ (1, 1), (1,1) ]\n",
    "threshold_of_caring = 0.001\n",
    "\n",
    "N = array([ 200, 204 ])\n",
    "s = array([ 16, 36 ])"
   ]
  },
  {
   "cell_type": "code",
   "execution_count": null,
   "metadata": {
    "collapsed": true
   },
   "outputs": [],
   "source": []
  },
  {
   "cell_type": "code",
   "execution_count": 3,
   "metadata": {
    "collapsed": true
   },
   "outputs": [],
   "source": [
    "def bayesian_expected_error(N,s):\n",
    "    degrees_of_freedom = len(prior_params)\n",
    "    posteriors = []\n",
    "    for i in range(degrees_of_freedom):\n",
    "        posteriors.append( beta(prior_params[i][0] + s[i] - 1, prior_params[i][1] + N[i] - s[i] - 1) )\n",
    "    xgrid_size = 1024\n",
    "    x = mgrid[0:xgrid_size,0:xgrid_size] / float(xgrid_size)\n",
    "    # Compute joint posterior, which is a product distribution\n",
    "    pdf_arr = posteriors[0].pdf(x[1]) * posteriors[1].pdf(x[0])\n",
    "    pdf_arr /= pdf_arr.sum() # normalization\n",
    "    expected_error_dist = maximum(x[0]-x[1],0.0) * pdf_arr\n",
    "    return expected_error_dist.sum()"
   ]
  },
  {
   "cell_type": "code",
   "execution_count": null,
   "metadata": {
    "collapsed": true
   },
   "outputs": [],
   "source": []
  },
  {
   "cell_type": "code",
   "execution_count": 4,
   "metadata": {
    "collapsed": false
   },
   "outputs": [
    {
     "name": "stdout",
     "output_type": "stream",
     "text": [
      "Probability that version B is larger is 0.00149874572836\n",
      "Terminate test. Choose version B. Expected error is 1.51670610817e-05\n"
     ]
    }
   ],
   "source": [
    "# Code\n",
    "degrees_of_freedom = len(prior_params)\n",
    "posteriors = []\n",
    "for i in range(degrees_of_freedom):\n",
    "    posteriors.append( beta(prior_params[i][0] + s[i] - 1, prior_params[i][1] + N[i] - s[i] - 1) )\n",
    "\n",
    "if degrees_of_freedom == 2:\n",
    "    xgrid_size = 1024\n",
    "\n",
    "    x = mgrid[0:xgrid_size,0:xgrid_size] / float(xgrid_size)\n",
    "    # Compute joint posterior, which is a product distribution\n",
    "    pdf_arr = posteriors[0].pdf(x[1]) * posteriors[1].pdf(x[0])\n",
    "    pdf_arr /= pdf_arr.sum() # normalization\n",
    "\n",
    "    prob_error = zeros(shape=x[0].shape)\n",
    "    if (s[1] / float(N[1])) > (s[0] / float(N[0])):\n",
    "        prob_error[where(x[1] > x[0])] = 1.0\n",
    "    else:\n",
    "        prob_error[where(x[0] > x[1])] = 1.0\n",
    "\n",
    "    expected_error = maximum(abs(x[0]-x[1]),0.0)\n",
    "\n",
    "    expected_err_scalar = (expected_error * prob_error * pdf_arr).sum()\n",
    "\n",
    "    if (expected_err_scalar < threshold_of_caring):\n",
    "        if (s[1] / float(N[1])) > (s[0] / float(N[0])):\n",
    "            print(\"Probability that version B is larger is \" + str((prob_error*pdf_arr).sum()))\n",
    "            print(\"Terminate test. Choose version B. Expected error is \" + str(expected_err_scalar))\n",
    "        else:\n",
    "            print(\"Probability that version A is larger is \" + str((prob_error*pdf_arr).sum()))\n",
    "            print(\"Terminate test. Choose version A. Expected error is \" + str(expected_err_scalar))\n",
    "    else:\n",
    "        print(\"Probability that version B is larger is \" + str((prob_error*pdf_arr).sum()))\n",
    "        print(\"Continue test. Expected error was \" + str(expected_err_scalar) + \" > \" + str(threshold_of_caring))"
   ]
  },
  {
   "cell_type": "code",
   "execution_count": null,
   "metadata": {
    "collapsed": true
   },
   "outputs": [],
   "source": []
  }
 ],
 "metadata": {
  "kernelspec": {
   "display_name": "Python 3",
   "language": "python",
   "name": "python3"
  },
  "language_info": {
   "codemirror_mode": {
    "name": "ipython",
    "version": 3
   },
   "file_extension": ".py",
   "mimetype": "text/x-python",
   "name": "python",
   "nbconvert_exporter": "python",
   "pygments_lexer": "ipython3",
   "version": "3.6.0"
  }
 },
 "nbformat": 4,
 "nbformat_minor": 2
}
