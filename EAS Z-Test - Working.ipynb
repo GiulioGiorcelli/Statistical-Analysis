{
 "cells": [
  {
   "cell_type": "code",
   "execution_count": 2,
   "metadata": {
    "collapsed": false,
    "deletable": true,
    "editable": true
   },
   "outputs": [],
   "source": [
    "import numpy as np\n",
    "import pandas as pd\n",
    "import seaborn as sns\n",
    "from pylab import *\n",
    "from IPython.display import Image\n",
    "import matplotlib.ticker as mtick\n",
    "import matplotlib\n",
    "\n",
    "import scipy.stats as stats\n",
    "import statsmodels.stats.weightstats as wstats\n",
    "from collections import OrderedDict\n",
    "\n",
    "from __future__ import print_function\n",
    "from __future__ import division\n",
    "%matplotlib inline"
   ]
  },
  {
   "cell_type": "code",
   "execution_count": 3,
   "metadata": {
    "collapsed": true,
    "deletable": true,
    "editable": true
   },
   "outputs": [],
   "source": [
    "import psycopg2 as ps\n",
    "import pandas as pd"
   ]
  },
  {
   "cell_type": "code",
   "execution_count": 5,
   "metadata": {
    "collapsed": true
   },
   "outputs": [],
   "source": [
    "def view(query):\n",
    "    conn = ps.connect(\"host='redshift.service.aws2' port='5439' dbname='production' user='ggiorcelli' password='Gg1234590'\")\n",
    "    cur = conn.cursor()\n",
    "    cur.execute(query)  \n",
    "    data=cur.fetchall()\n",
    "    col_names = []\n",
    "    for elt in cur.description:\n",
    "        col_names.append(elt[0])\n",
    "     \n",
    "    df = pd.DataFrame(data, columns=col_names)\n",
    "    return df\n",
    "    conn.close()"
   ]
  },
  {
   "cell_type": "code",
   "execution_count": 10,
   "metadata": {
    "collapsed": false
   },
   "outputs": [
    {
     "data": {
      "text/html": [
       "<div>\n",
       "<table border=\"1\" class=\"dataframe\">\n",
       "  <thead>\n",
       "    <tr style=\"text-align: right;\">\n",
       "      <th></th>\n",
       "      <th>dealers</th>\n",
       "      <th>gross_leads</th>\n",
       "      <th>unique_submitters</th>\n",
       "    </tr>\n",
       "  </thead>\n",
       "  <tbody>\n",
       "    <tr>\n",
       "      <th>0</th>\n",
       "      <td>8510</td>\n",
       "      <td>483095</td>\n",
       "      <td>129522</td>\n",
       "    </tr>\n",
       "  </tbody>\n",
       "</table>\n",
       "</div>"
      ],
      "text/plain": [
       "   dealers  gross_leads  unique_submitters\n",
       "0     8510       483095             129522"
      ]
     },
     "execution_count": 10,
     "metadata": {},
     "output_type": "execute_result"
    }
   ],
   "source": [
    "query = \"select count(distinct l.f_location_id) dealers, count(distinct l.k_lead_id) gross_leads, count(distinct l.f_email) unique_submitters from main.f_dealer_lead l where l.f_date between '01-01-2016' and '03-18-2016' and l.f_type = 'new' \"\n",
    "df = pd.DataFrame(view(query))\n",
    "df"
   ]
  },
  {
   "cell_type": "code",
   "execution_count": 11,
   "metadata": {
    "collapsed": false,
    "deletable": true,
    "editable": true,
    "scrolled": false
   },
   "outputs": [
    {
     "data": {
      "text/html": [
       "<div>\n",
       "<table border=\"1\" class=\"dataframe\">\n",
       "  <thead>\n",
       "    <tr style=\"text-align: right;\">\n",
       "      <th></th>\n",
       "      <th>dealers</th>\n",
       "      <th>gross_leads</th>\n",
       "      <th>unique_submitters</th>\n",
       "    </tr>\n",
       "  </thead>\n",
       "  <tbody>\n",
       "    <tr>\n",
       "      <th>0</th>\n",
       "      <td>9701</td>\n",
       "      <td>608541</td>\n",
       "      <td>176536</td>\n",
       "    </tr>\n",
       "  </tbody>\n",
       "</table>\n",
       "</div>"
      ],
      "text/plain": [
       "   dealers  gross_leads  unique_submitters\n",
       "0     9701       608541             176536"
      ]
     },
     "execution_count": 11,
     "metadata": {},
     "output_type": "execute_result"
    }
   ],
   "source": [
    "query = \"select count(distinct l.f_location_id) dealers, count(distinct l.k_lead_id) gross_leads, count(distinct l.f_email) unique_submitters from main.f_dealer_lead l where l.f_date between '01-01-2017' and '03-18-2017' and l.f_type = 'new' \"\n",
    "df1 = pd.DataFrame(view(query))\n",
    "df1"
   ]
  },
  {
   "cell_type": "code",
   "execution_count": 80,
   "metadata": {
    "collapsed": false
   },
   "outputs": [
    {
     "data": {
      "text/plain": [
       "15.219976498237369"
      ]
     },
     "execution_count": 80,
     "metadata": {},
     "output_type": "execute_result"
    }
   ],
   "source": [
    "129522/8510"
   ]
  },
  {
   "cell_type": "code",
   "execution_count": 81,
   "metadata": {
    "collapsed": false
   },
   "outputs": [
    {
     "data": {
      "text/plain": [
       "18.197711576126174"
      ]
     },
     "execution_count": 81,
     "metadata": {},
     "output_type": "execute_result"
    }
   ],
   "source": [
    "176536/9701"
   ]
  },
  {
   "cell_type": "code",
   "execution_count": 82,
   "metadata": {
    "collapsed": false
   },
   "outputs": [
    {
     "data": {
      "text/plain": [
       "0.2"
      ]
     },
     "execution_count": 82,
     "metadata": {},
     "output_type": "execute_result"
    }
   ],
   "source": [
    "(18-15)/15"
   ]
  },
  {
   "cell_type": "code",
   "execution_count": 11,
   "metadata": {
    "collapsed": false,
    "deletable": true,
    "editable": true,
    "scrolled": false
   },
   "outputs": [
    {
     "data": {
      "text/html": [
       "<div>\n",
       "<table border=\"1\" class=\"dataframe\">\n",
       "  <thead>\n",
       "    <tr style=\"text-align: right;\">\n",
       "      <th></th>\n",
       "      <th>metrics</th>\n",
       "      <th>u_value</th>\n",
       "      <th>u_sessions</th>\n",
       "      <th>n1_value</th>\n",
       "      <th>n1_sessions</th>\n",
       "      <th>n2_value</th>\n",
       "      <th>n2_sessions</th>\n",
       "    </tr>\n",
       "  </thead>\n",
       "  <tbody>\n",
       "    <tr>\n",
       "      <th>0</th>\n",
       "      <td>connections</td>\n",
       "      <td>496</td>\n",
       "      <td>33561</td>\n",
       "      <td>5317</td>\n",
       "      <td>485764</td>\n",
       "      <td>590</td>\n",
       "      <td>50808</td>\n",
       "    </tr>\n",
       "  </tbody>\n",
       "</table>\n",
       "</div>"
      ],
      "text/plain": [
       "       metrics  u_value  u_sessions  n1_value  n1_sessions  n2_value  \\\n",
       "0  connections      496       33561      5317       485764       590   \n",
       "\n",
       "   n2_sessions  \n",
       "0        50808  "
      ]
     },
     "execution_count": 11,
     "metadata": {},
     "output_type": "execute_result"
    }
   ],
   "source": [
    "#Conections\n",
    "df1 = df.loc[[0]]\n",
    "df1"
   ]
  },
  {
   "cell_type": "code",
   "execution_count": 83,
   "metadata": {
    "collapsed": false,
    "deletable": true,
    "editable": true,
    "scrolled": false
   },
   "outputs": [
    {
     "name": "stdout",
     "output_type": "stream",
     "text": [
      " A: Leads = 129522 \t Dealers = 8510 \t prop = 15.219976498237369\n",
      " B: Leads = 176536 \t Dealers = 9701 \t prop = 18.197711576126174\n"
     ]
    },
    {
     "data": {
      "text/plain": [
       "<matplotlib.text.Text at 0x10f0ffa58>"
      ]
     },
     "execution_count": 83,
     "metadata": {},
     "output_type": "execute_result"
    },
    {
     "data": {
      "image/png": "[encoded data removed]",
      "text/plain": [
       "<matplotlib.figure.Figure at 0x10efbaf28>"
      ]
     },
     "metadata": {},
     "output_type": "display_data"
    }
   ],
   "source": [
    "control_base = df.dealers[0]\n",
    "control_value = df.unique_submitters[0]\n",
    "test_base = df1.dealers[0]\n",
    "test_value = df1.unique_submitters[0]\n",
    "\n",
    "\n",
    "print(' {}: Leads = {} \\t Dealers = {} \\t prop = {}'\n",
    "      .format('A', control_value, control_base, control_value/control_base))\n",
    "\n",
    "print(' {}: Leads = {} \\t Dealers = {} \\t prop = {}'\n",
    "      .format('B', test_value, test_base, test_value/test_base))\n",
    "\n",
    "\n",
    "fig, ax = plt.subplots(figsize=(8,4))\n",
    "\n",
    "x = [0,1]\n",
    "y = [control_value/control_base, test_value/test_base]\n",
    "ax.bar(x, y, align='center', width=.8)\n",
    "ax.set_xticks(x)\n",
    "ax.set_xticklabels(['Control', 'Test'])\n",
    "xlim(-.5,1.5)\n",
    "ylim(0, 70)\n",
    "for xx, yy in zip(x,y):\n",
    "    ax.text(xx, yy*.7, '%0.0f%%'%(yy),ha='center', va='bottom', fontdict={'size':15,'weight':'bold','color':(0.9,.9,.9)})\n",
    "# ax.yaxis.set_major_formatter(mtick.FormatStrFormatter('%.0f%%'))\n",
    "# def perc(x, pos=0):\n",
    "#     return '%0.0f%%'%(100*x)\n",
    "ax.yaxis.set_major_formatter(FuncFormatter(lambda x, pos=0: '%0.0f%%'%(x)))\n",
    "title('Leads Per Dealer Comparison', fontdict={'size':16})"
   ]
  },
  {
   "cell_type": "code",
   "execution_count": null,
   "metadata": {
    "collapsed": true
   },
   "outputs": [],
   "source": []
  },
  {
   "cell_type": "code",
   "execution_count": 96,
   "metadata": {
    "collapsed": false,
    "deletable": true,
    "editable": true
   },
   "outputs": [
    {
     "name": "stdout",
     "output_type": "stream",
     "text": [
      " z-stat = 53.61814468228941 \n",
      " p-value = 0.0\n"
     ]
    }
   ],
   "source": [
    "from statsmodels.stats.proportion import proportions_ztest\n",
    "count = np.array([test_value, control_value])\n",
    "nobs = np.array([test_base*100, control_base*100])\n",
    "z,p = proportions_ztest(count, nobs, value=0, alternative='two-sided')\n",
    "print(' z-stat = {z} \\n p-value = {p}'.format(z=z,p=p))\n"
   ]
  },
  {
   "cell_type": "code",
   "execution_count": null,
   "metadata": {
    "collapsed": true
   },
   "outputs": [],
   "source": []
  },
  {
   "cell_type": "code",
   "execution_count": null,
   "metadata": {
    "collapsed": true
   },
   "outputs": [],
   "source": []
  },
  {
   "cell_type": "code",
   "execution_count": null,
   "metadata": {
    "collapsed": true
   },
   "outputs": [],
   "source": []
  },
  {
   "cell_type": "code",
   "execution_count": null,
   "metadata": {
    "collapsed": true
   },
   "outputs": [],
   "source": []
  },
  {
   "cell_type": "code",
   "execution_count": null,
   "metadata": {
    "collapsed": true
   },
   "outputs": [],
   "source": []
  },
  {
   "cell_type": "code",
   "execution_count": null,
   "metadata": {
    "collapsed": true
   },
   "outputs": [],
   "source": []
  },
  {
   "cell_type": "code",
   "execution_count": 94,
   "metadata": {
    "collapsed": false,
    "deletable": true,
    "editable": true
   },
   "outputs": [
    {
     "name": "stdout",
     "output_type": "stream",
     "text": [
      " 95% Confidence Interval = ( 10.40% , 11.10% )\n"
     ]
    }
   ],
   "source": [
    "# implementation from scratch\n",
    "def compute_standard_error_prop_two_samples(x1, n1, x2, n2, alpha=0.05):\n",
    "    p1 = x1/n1\n",
    "    p2 = x2/n2    \n",
    "    se = p1*(1-p1)/n1 + p2*(1-p2)/n2\n",
    "    return sqrt(se)\n",
    "    \n",
    "def zconf_interval_two_samples(x1, n1, x2, n2, alpha=0.05):\n",
    "    p1 = x1/n1\n",
    "    p2 = x2/n2    \n",
    "    se = compute_standard_error_prop_two_samples(x1, n1, x2, n2)\n",
    "    z_critical = stats.norm.ppf(1-0.5*alpha)\n",
    "    return p2-p1-z_critical*se, p2-p1+z_critical*se\n",
    "\n",
    "ci_low,ci_upp = zconf_interval_two_samples(test_base*10, test_value,\n",
    "                                           control_base*10, control_value)\n",
    "print(' 95% Confidence Interval = ( {0:.2f}% , {1:.2f}% )'\n",
    "      .format(100*ci_low, 100*ci_upp))"
   ]
  },
  {
   "cell_type": "code",
   "execution_count": null,
   "metadata": {
    "collapsed": true
   },
   "outputs": [],
   "source": []
  },
  {
   "cell_type": "code",
   "execution_count": null,
   "metadata": {
    "collapsed": true
   },
   "outputs": [],
   "source": []
  },
  {
   "cell_type": "code",
   "execution_count": null,
   "metadata": {
    "collapsed": true
   },
   "outputs": [],
   "source": []
  },
  {
   "cell_type": "code",
   "execution_count": null,
   "metadata": {
    "collapsed": true
   },
   "outputs": [],
   "source": []
  },
  {
   "cell_type": "code",
   "execution_count": null,
   "metadata": {
    "collapsed": true
   },
   "outputs": [],
   "source": []
  },
  {
   "cell_type": "code",
   "execution_count": null,
   "metadata": {
    "collapsed": true
   },
   "outputs": [],
   "source": []
  },
  {
   "cell_type": "code",
   "execution_count": 71,
   "metadata": {
    "collapsed": false
   },
   "outputs": [
    {
     "name": "stdout",
     "output_type": "stream",
     "text": [
      " A: Leads = 483095 \t Dealers = 8510 \t prop = 0.017615582856374004\n",
      " B: Leads = 608541 \t Dealers = 9701 \t prop = 0.01594140739900845\n"
     ]
    },
    {
     "data": {
      "text/plain": [
       "<matplotlib.text.Text at 0x10f06f1d0>"
      ]
     },
     "execution_count": 71,
     "metadata": {},
     "output_type": "execute_result"
    },
    {
     "data": {
      "image/png": "[encoded data removed]",
      "text/plain": [
       "<matplotlib.figure.Figure at 0x10ef5b3c8>"
      ]
     },
     "metadata": {},
     "output_type": "display_data"
    }
   ],
   "source": [
    "control_base = df.dealers[0]\n",
    "control_value = df.gross_leads[0]\n",
    "test_base = df1.dealers[0]\n",
    "test_value = df1.gross_leads[0]\n",
    "\n",
    "\n",
    "print(' {}: Leads = {} \\t Dealers = {} \\t prop = {}'\n",
    "      .format('A', control_value, control_base, control_base/control_value))\n",
    "\n",
    "print(' {}: Leads = {} \\t Dealers = {} \\t prop = {}'\n",
    "      .format('B', test_value, test_base, test_base/test_value))\n",
    "\n",
    "\n",
    "fig, ax = plt.subplots(figsize=(8,4))\n",
    "\n",
    "ax.bar(x, y, align='center', width=.8)\n",
    "ax.set_xticks(x)\n",
    "ax.set_xticklabels(['Control', 'Test'])\n",
    "xlim(-.5,1.5)\n",
    "ylim(0, .04)\n",
    "for xx, yy in zip(x,y):\n",
    "    ax.text(xx, yy*.7, '%0.2f%%'%(100*yy),ha='center', va='bottom', fontdict={'size':15,'weight':'bold','color':(0.9,.9,.9)})\n",
    "# ax.yaxis.set_major_formatter(mtick.FormatStrFormatter('%.0f%%'))\n",
    "# def perc(x, pos=0):\n",
    "#     return '%0.0f%%'%(100*x)\n",
    "ax.yaxis.set_major_formatter(FuncFormatter(lambda x, pos=0: '%0.1f%%'%(100.0*x)))\n",
    "title('Rate Comparison', fontdict={'size':16})"
   ]
  },
  {
   "cell_type": "code",
   "execution_count": 75,
   "metadata": {
    "collapsed": false
   },
   "outputs": [
    {
     "name": "stdout",
     "output_type": "stream",
     "text": [
      " z-stat = 81.91743887703521 \n",
      " p-value = 0.0\n"
     ]
    }
   ],
   "source": [
    "from statsmodels.stats.proportion import proportions_ztest\n",
    "count = np.array([test_value, control_value])\n",
    "nobs = np.array([test_base*100, control_base*100])\n",
    "z,p = proportions_ztest(count, nobs, value=0, alternative='two-sided')\n",
    "print(' z-stat = {z} \\n p-value = {p}'.format(z=z,p=p))"
   ]
  },
  {
   "cell_type": "code",
   "execution_count": 78,
   "metadata": {
    "collapsed": false
   },
   "outputs": [
    {
     "name": "stdout",
     "output_type": "stream",
     "text": [
      " 95% Confidence Interval = ( -6.10% , -5.82% )\n"
     ]
    }
   ],
   "source": [
    "# implementation from scratch\n",
    "def compute_standard_error_prop_two_samples(x1, n1, x2, n2, alpha=0.05):\n",
    "    p1 = x1/n1\n",
    "    p2 = x2/n2    \n",
    "    se = p1*(1-p1)/n1 + p2*(1-p2)/n2\n",
    "    return sqrt(se)\n",
    "    \n",
    "def zconf_interval_two_samples(x1, n1, x2, n2, alpha=0.05):\n",
    "    p1 = x1/n1\n",
    "    p2 = x2/n2    \n",
    "    se = compute_standard_error_prop_two_samples(x1, n1, x2, n2)\n",
    "    z_critical = stats.norm.ppf(1-0.5*alpha)\n",
    "    return p2-p1-z_critical*se, p2-p1+z_critical*se\n",
    "\n",
    "ci_low,ci_upp = zconf_interval_two_samples(test_value, test_base*100,\n",
    "                                           control_value, control_base*100)\n",
    "print(' 95% Confidence Interval = ( {0:.2f}% , {1:.2f}% )'\n",
    "      .format(100*ci_low, 100*ci_upp))"
   ]
  },
  {
   "cell_type": "code",
   "execution_count": 7,
   "metadata": {
    "collapsed": false,
    "deletable": true,
    "editable": true
   },
   "outputs": [],
   "source": [
    "import pymc3\n",
    "import pylab"
   ]
  },
  {
   "cell_type": "code",
   "execution_count": 9,
   "metadata": {
    "collapsed": false,
    "deletable": true,
    "editable": true
   },
   "outputs": [
    {
     "name": "stdout",
     "output_type": "stream",
     "text": [
      "Help on package pymc:\n",
      "\n",
      "NAME\n",
      "    pymc\n",
      "\n",
      "PACKAGE CONTENTS\n",
      "    code_maintenance\n",
      "    pymc (package)\n",
      "    setup\n",
      "    setupegg\n",
      "\n",
      "FILE\n",
      "    (built-in)\n",
      "\n",
      "\n"
     ]
    }
   ],
   "source": [
    "help(pymc)"
   ]
  },
  {
   "cell_type": "code",
   "execution_count": 15,
   "metadata": {
    "collapsed": false,
    "deletable": true,
    "editable": true
   },
   "outputs": [],
   "source": [
    "# using pymc3\n",
    "import pymc as pm\n",
    "import pymc3 as pm3\n",
    "\n",
    "control   = [1]*df1.n1_value[0] + [0]*(df1.n1_sessions[0] - df1.n1_value[0])\n",
    "treatment = [1]*df1.n2_value[0] + [0]*(df1.n2_sessions[0] - df1.n2_value[0])\n",
    "control = np.asarray(control)\n",
    "treatment = np.asarray(treatment)\n",
    "\n",
    "start = {}\n",
    "\n",
    "start['p_C'] = (control).sum()/len(control)\n",
    "start['p_T'] = (treatment).sum()/len(treatment)"
   ]
  },
  {
   "cell_type": "code",
   "execution_count": null,
   "metadata": {
    "collapsed": true,
    "deletable": true,
    "editable": true
   },
   "outputs": [],
   "source": [
    "data = treatment\n",
    "\n",
    "with pm3.Model() as model:\n",
    "    mu = pm3.Normal('mu', mu=0, sd=1, testval=0)\n",
    "    sd = pm3.HalfNormal('sd', sd=1)\n",
    "    n = pm3.Normal('n', mu=mu, sd=sd, observed=data)\n",
    "\n",
    "    trace = pm3.sample(3000)"
   ]
  },
  {
   "cell_type": "code",
   "execution_count": 150,
   "metadata": {
    "collapsed": false,
    "deletable": true,
    "editable": true,
    "scrolled": true
   },
   "outputs": [
    {
     "data": {
      "image/png": "[encoded data removed]",
      "text/plain": [
       "<matplotlib.figure.Figure at 0x11a33e0b8>"
      ]
     },
     "metadata": {},
     "output_type": "display_data"
    }
   ],
   "source": [
    "pm3.traceplot(trace);"
   ]
  },
  {
   "cell_type": "code",
   "execution_count": null,
   "metadata": {
    "collapsed": true,
    "deletable": true,
    "editable": true
   },
   "outputs": [],
   "source": []
  }
 ],
 "metadata": {
  "kernelspec": {
   "display_name": "Python 3",
   "language": "python",
   "name": "python3"
  },
  "language_info": {
   "codemirror_mode": {
    "name": "ipython",
    "version": 3
   },
   "file_extension": ".py",
   "mimetype": "text/x-python",
   "name": "python",
   "nbconvert_exporter": "python",
   "pygments_lexer": "ipython3",
   "version": "3.6.0"
  }
 },
 "nbformat": 4,
 "nbformat_minor": 2
}
