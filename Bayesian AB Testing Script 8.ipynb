{
 "cells": [
  {
   "cell_type": "code",
   "execution_count": 10,
   "metadata": {
    "collapsed": false
   },
   "outputs": [
    {
     "ename": "ModuleNotFoundError",
     "evalue": "No module named 'pymc'",
     "output_type": "error",
     "traceback": [
      "\u001b[0;31m---------------------------------------------------------------------------\u001b[0m",
      "\u001b[0;31mModuleNotFoundError\u001b[0m                       Traceback (most recent call last)",
      "\u001b[0;32m<ipython-input-10-4d8a3c60bb45>\u001b[0m in \u001b[0;36m<module>\u001b[0;34m()\u001b[0m\n\u001b[0;32m----> 1\u001b[0;31m \u001b[0;32mimport\u001b[0m \u001b[0mpymc\u001b[0m\u001b[0;34m\u001b[0m\u001b[0m\n\u001b[0m\u001b[1;32m      2\u001b[0m \u001b[0;32mimport\u001b[0m \u001b[0mnumpy\u001b[0m \u001b[0;32mas\u001b[0m \u001b[0mnp\u001b[0m\u001b[0;34m\u001b[0m\u001b[0m\n",
      "\u001b[0;31mModuleNotFoundError\u001b[0m: No module named 'pymc'"
     ]
    }
   ],
   "source": [
    "import pymc\n",
    "import numpy as np"
   ]
  },
  {
   "cell_type": "code",
   "execution_count": 5,
   "metadata": {
    "collapsed": false
   },
   "outputs": [],
   "source": [
    "#Website A had 1055 clicks and 28 sign-ups\n",
    "values_A = np.hstack(([0]*(1055-28),[1]*28))\n",
    "# Website B had 1057 clicks and 45 sign-ups\n",
    "values_B = np.hstack(([0]*(1057-45),[1]*45))"
   ]
  },
  {
   "cell_type": "code",
   "execution_count": 9,
   "metadata": {
    "collapsed": false
   },
   "outputs": [
    {
     "ename": "NameError",
     "evalue": "name 'model' is not defined",
     "output_type": "error",
     "traceback": [
      "\u001b[0;31m---------------------------------------------------------------------------\u001b[0m",
      "\u001b[0;31mNameError\u001b[0m                                 Traceback (most recent call last)",
      "\u001b[0;32m<ipython-input-9-42948d1e9dd8>\u001b[0m in \u001b[0;36m<module>\u001b[0;34m()\u001b[0m\n\u001b[0;32m----> 1\u001b[0;31m \u001b[0;32mwith\u001b[0m \u001b[0mmodel\u001b[0m\u001b[0;34m(\u001b[0m\u001b[0mmodel\u001b[0m\u001b[0;34m)\u001b[0m\u001b[0;34m:\u001b[0m\u001b[0;34m\u001b[0m\u001b[0m\n\u001b[0m\u001b[1;32m      2\u001b[0m \u001b[0;34m\u001b[0m\u001b[0m\n\u001b[1;32m      3\u001b[0m \u001b[0;31m# Create a uniform prior for the probabilities p_a and p_b\u001b[0m\u001b[0;34m\u001b[0m\u001b[0;34m\u001b[0m\u001b[0m\n\u001b[1;32m      4\u001b[0m    \u001b[0mp_A\u001b[0m \u001b[0;34m=\u001b[0m \u001b[0mpymc3\u001b[0m\u001b[0;34m.\u001b[0m\u001b[0mUniform\u001b[0m\u001b[0;34m(\u001b[0m\u001b[0;34m'p_A'\u001b[0m\u001b[0;34m,\u001b[0m \u001b[0;36m0\u001b[0m\u001b[0;34m,\u001b[0m \u001b[0;36m1\u001b[0m\u001b[0;34m)\u001b[0m\u001b[0;34m\u001b[0m\u001b[0m\n\u001b[1;32m      5\u001b[0m    \u001b[0mp_B\u001b[0m \u001b[0;34m=\u001b[0m \u001b[0mpymc3\u001b[0m\u001b[0;34m.\u001b[0m\u001b[0mUniform\u001b[0m\u001b[0;34m(\u001b[0m\u001b[0;34m'p_B'\u001b[0m\u001b[0;34m,\u001b[0m \u001b[0;36m0\u001b[0m\u001b[0;34m,\u001b[0m \u001b[0;36m1\u001b[0m\u001b[0;34m)\u001b[0m\u001b[0;34m\u001b[0m\u001b[0m\n",
      "\u001b[0;31mNameError\u001b[0m: name 'model' is not defined"
     ]
    }
   ],
   "source": [
    "# Create a uniform prior for the probabilities p_a and p_b\n",
    "p_A = pymc.Uniform('p_A', 0, 1)\n",
    "p_B = pymc.Uniform('p_B', 0, 1)\n",
    " \n",
    "# Creates a posterior distribution of B - A\n",
    "@pymc.deterministic\n",
    "def delta(p_A = p_A, p_B = p_B):\n",
    "    return p_B - p_A"
   ]
  },
  {
   "cell_type": "code",
   "execution_count": null,
   "metadata": {
    "collapsed": true
   },
   "outputs": [],
   "source": [
    "# Create the Bernoulli variables for the observation\n",
    "obs_A = pymc.Bernoulli('obs_A', p_A, value = values_A , observed = True)\n",
    "obs_B = pymc.Bernoulli('obs_B', p_B, value = values_B , observed = True)\n",
    "\n",
    "model = pymc.Model([p_A, p_B, delta, values_A, values_B])\n",
    "mcmc = pymc.MCMC(model)\n",
    "# Sample 1,000,000 million points and throw out the first 500,000\n",
    "mcmc.sample(1000000, 500000)"
   ]
  },
  {
   "cell_type": "code",
   "execution_count": null,
   "metadata": {
    "collapsed": true
   },
   "outputs": [],
   "source": [
    "delta_distribution = mcmc.trace('delta')[:]\n",
    "sns.kdeplot(delta_distribution, shade = True)\n",
    "\n",
    "plt.axvline(0.00, color = 'black')"
   ]
  },
  {
   "cell_type": "code",
   "execution_count": null,
   "metadata": {
    "collapsed": true
   },
   "outputs": [],
   "source": [
    "print(\"Probability that website A gets MORE sign-ups than site B: %0.3f\" % (delta_distribution < 0).mean())\n",
    "print(\"Probability that website A gets LESS sign-ups than site B: %0.3f\" % (delta_distribution > 0).mean())"
   ]
  },
  {
   "cell_type": "code",
   "execution_count": null,
   "metadata": {
    "collapsed": true
   },
   "outputs": [],
   "source": [
    "###\n",
    "###From the model above is likely to get false positives\n",
    "###Below is hierarcical model with binomial distribution that takes care of those issues"
   ]
  },
  {
   "cell_type": "code",
   "execution_count": null,
   "metadata": {
    "collapsed": true
   },
   "outputs": [],
   "source": [
    "@pymc.stochastic(dtype=np.float64)\n",
    "def beta_priors(value=[1.0, 1.0]):\n",
    "    a, b = value\n",
    "    if a <= 0 or b <= 0:\n",
    "        return -np.inf\n",
    "    else:\n",
    "        return np.log(np.power((a + b), -2.5))\n",
    "\n",
    "a = beta_priors[0]\n",
    "b = beta_priors[1]"
   ]
  },
  {
   "cell_type": "code",
   "execution_count": null,
   "metadata": {
    "collapsed": true
   },
   "outputs": [],
   "source": [
    "# The hidden, true rate for each website.\n",
    "true_rates = pymc.Beta('true_rates', a, b, size=5)\n",
    "\n",
    "# The observed values\n",
    "trials = np.array([1055, 1057, 1065, 1039, 1046])\n",
    "successes = np.array([28, 45, 69, 58, 60])\n",
    "observed_values = pymc.Binomial('observed_values', trials, true_rates, observed=True, value=successes)\n",
    "\n",
    "model = pymc.Model([a, b, true_rates, observed_values])\n",
    "mcmc = pymc.MCMC(model)\n",
    "\n",
    "# Generate 1,000,000 samples, and throw out the first 500,000\n",
    "mcmc.sample(1000000, 500000)"
   ]
  },
  {
   "cell_type": "code",
   "execution_count": null,
   "metadata": {
    "collapsed": true
   },
   "outputs": [],
   "source": [
    "diff_CA = mcmc.trace('true_rates')[:][:,2] - mcmc.trace('true_rates')[:][:,0]\n",
    "sns.kdeplot(diff_CA, shade = True, label = \"Difference site C - site A\")\n",
    "plt.axvline(0.0, color = 'black')"
   ]
  },
  {
   "cell_type": "code",
   "execution_count": null,
   "metadata": {
    "collapsed": true
   },
   "outputs": [],
   "source": [
    "print(\"Probability that website A gets MORE sign-ups than website C: %0.3f\" % (diff_CA < 0).mean())\n",
    "print(\"Probability that website A gets LESS sign-ups than website C: %0.3f\" % (diff_CA > 0).mean())"
   ]
  }
 ],
 "metadata": {
  "kernelspec": {
   "display_name": "Python 3",
   "language": "python",
   "name": "python3"
  },
  "language_info": {
   "codemirror_mode": {
    "name": "ipython",
    "version": 3
   },
   "file_extension": ".py",
   "mimetype": "text/x-python",
   "name": "python",
   "nbconvert_exporter": "python",
   "pygments_lexer": "ipython3",
   "version": "3.6.0"
  }
 },
 "nbformat": 4,
 "nbformat_minor": 2
}
